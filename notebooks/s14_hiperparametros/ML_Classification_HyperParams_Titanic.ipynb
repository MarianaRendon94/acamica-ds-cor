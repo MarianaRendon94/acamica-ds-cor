{
 "cells": [
  {
   "cell_type": "markdown",
   "metadata": {},
   "source": [
    "# <img style=\"float: left; padding-right: 10px; width: 150px\" src=\"https://sc.acamica.com/icons/1j7w9h/social-300x300.png\">  Acámica DS-COR3 - Ejercicio de Machine Learning\n",
    "\n",
    "### Mayo 2019\n",
    "\n",
    "<hr style=\"height:2pt\">"
   ]
  },
  {
   "cell_type": "markdown",
   "metadata": {},
   "source": [
    "## Descripción\n",
    "\n",
    "El objetivo de este notebook es ejercitar el \"ajuste fino\" de un modelo de Machine Learning sobre un conjunto de datos referido a pasajeros del Titanic. Se parte del ejercicio de la semana anterior (predecir la condición de supervicencia de un pasajero del Titanic) para concentrarse ahora en aplicar técnicas de búsqueda de hiper-parámetros para encontrar la mejor configuración posible del modelo a ser ajustado con los datos de entrada.\n",
    "\n",
    "**Link a dataset:** https://www.kaggle.com/c/titanic/data\n",
    "\n",
    "**Ejemplos asociados:** Dado que es un dataset popular, se puede encontrar una gran variedad de kernels disponibles para sacar ideas y corroborar otras: https://www.kaggle.com/c/titanic/kernels. \n",
    "\n",
    "Como guía, se pretende que el pipeline a desarrollar cubra los siguientes aspectos (no necesariamente en este estricto orden):\n",
    "\n",
    "- **Carga de datos:** Lectura de CSV \"train.csv\" en un DataFrame para ajustar el modelo, y \"test.csv\" para validaciones al final.\n",
    "\n",
    "- **Pre-procesamiento:** Se puede utilizar las features que se obtuvieron en el ejercicio anterior, o bien las de [este notebook](https://www.kaggle.com/sinakhorami/titanic-best-working-classifier) ya sugerido anteriormente.\n",
    "\n",
    "- **Configurar modelo a ajustar:** En particular, utilizar el algoritmo `sklearn.neighbors.KNeighborsClassifier` para modelar el clasificador. A partir de ello, proponer un rango de valores a explorar por cada uno de los siguientes hiperparámetros:\n",
    "    - `n_neighbors` (decidir el mayor valor posible de K que tenga sentido y no tienda al overfitting).\n",
    "    - `algorithm` (probar los 3 casos: \"ball_tree\", \"kd_tree\", \"brute\")\n",
    "    - `metric` (basarse en la [documentación](https://scikit-learn.org/stable/modules/generated/sklearn.neighbors.DistanceMetric.html), y extraer aquellas que tengan sentido a partir del tipo de las features usadas) \n",
    "    - `weights` (probar tanto \"uniform\" como \"distance\" para medir impacto).\n",
    "    \n",
    "- **Ajustar modelo:** Aplicar [GridSearchCV](https://scikit-learn.org/stable/modules/generated/sklearn.model_selection.GridSearchCV.html) para explorar el espacio de hiper-parámetros definido, utilizando la estrategia de CV que se desee (e.g. K-fold, leave k out, etc).\n",
    "\n",
    "- **Validar modelo:** Utilizar conjunto de validación para validar el desempeño del mejor modelo ajustado usando métricas adecuadas para problemas de regresión.\n",
    "    - En este caso se sugiere utilizar precision, recall y f1-score mediante la [API de scikit-learn](https://scikit-learn.org/stable/modules/model_evaluation.html#classification-metrics).\n",
    "    - Además, plotear curva ROC de al menos 3 de los modelos obtenidos en cada experimento de la búsqueda.\n",
    "        > TIP: Recordar que la función [roc_curve](https://scikit-learn.org/stable/auto_examples/model_selection/plot_roc.html) debe recibir en \"y_score\" las probabilidades de la clase positiva, no las clases binarias de dichas predicciones (i.e. debe recibir la probabilidad 0.7 en lugar de la clase 1 de una predicción dada).\n",
    " \n",
    "- **Reajuste del modelo:** A partir de la configuración ganadora, obtener un nuevo modelo ajustado sobre el total de los datos de \"train.csv\" y validar su desempeño con los de \"test.csv\" para definir si los resultados son buenos para la tarea asignada.\n",
    "    \n",
    "    \n",
    "### Ejercicios extra:\n",
    "\n",
    "- Responder: Por qué conviene aplicar Grid Search en lugar de Random Search? Cuando conviene al revés? Pensar en el espacio de parámetros y el esfuerzo de ajustar un modelo...\n",
    "- Utilizar una métrica \"personalizada\" mediante una función de Python, para medir la distancia entre los puntos del KNN.\n",
    "- Plotear curva Precision - Recall y responder:\n",
    "    - Cuál es la diferencia principal entre este gráfico y el ROC?\n",
    "    - Cuál sería la mejor métrica a priorizar para el caso \"detectar la mayor cantidad de NO supervivientes posible\"? \n",
    "   \n",
    "**Recursos**:  \n",
    "    \n",
    "- https://medium.com/fintechexplained/how-to-fine-tune-your-machine-learning-models-to-improve-forecasting-accuracy-e18e67e58898\n",
    "- https://scikit-learn.org/stable/auto_examples/model_selection/plot_precision_recall.html\n",
    "- https://classeval.wordpress.com/introduction/introduction-to-the-precision-recall-plot/"
   ]
  }
 ],
 "metadata": {
  "@webio": {
   "lastCommId": "a64839b2f6a1456582823eaa2e227ba4",
   "lastKernelId": "21a0c607-1c10-401d-a60b-f96d2695a267"
  },
  "kernelspec": {
   "display_name": "Python 3",
   "language": "python",
   "name": "python3"
  },
  "language_info": {
   "codemirror_mode": {
    "name": "ipython",
    "version": 3
   },
   "file_extension": ".py",
   "mimetype": "text/x-python",
   "name": "python",
   "nbconvert_exporter": "python",
   "pygments_lexer": "ipython3",
   "version": "3.6.7"
  }
 },
 "nbformat": 4,
 "nbformat_minor": 2
}
