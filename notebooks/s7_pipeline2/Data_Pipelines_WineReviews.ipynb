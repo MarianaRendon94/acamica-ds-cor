{
 "cells": [
  {
   "cell_type": "markdown",
   "metadata": {},
   "source": [
    "# <img style=\"float: left; padding-right: 10px; width: 150px\" src=\"https://sc.acamica.com/icons/1j7w9h/social-300x300.png\">  Acámica DS-COR3 - Ejercicio de Data Pipelines\n",
    "\n",
    "### Marzo 2019\n",
    "\n",
    "<hr style=\"height:2pt\">"
   ]
  },
  {
   "cell_type": "markdown",
   "metadata": {},
   "source": [
    "## Descripción\n",
    "\n",
    "El objetivo de este notebook es ejercitar la construcción de Data Pipelines sobre un conjunto de datos referido a revisiones de vinos. Con dichos pipelines, se debe poder \"curar\" el dataset a partir de un tratamiento orientado a una tarea analítica (e.g. analizar descripciones, predecir ratings, entender correlación con precios, etc) el cual debe abarcar una adecuada limpieza y transformación de las columnas. \n",
    "\n",
    "**Link a dataset:** https://www.kaggle.com/zynicide/wine-reviews\n",
    "\n",
    "**Ejemplos asociados:** Dado que es un dataset popular, se puede encontrar una gran variedad de kernels disponibles para sacar ideas y corroborar otras: https://www.kaggle.com/zynicide/wine-reviews/kernels\n",
    "\n",
    "Como guía, se pretende que el pipeline a desarrollar cubra los siguientes aspectos (no necesariamente en este estricto orden):\n",
    "\n",
    "- **Carga de datos:** Lectura de CSV en un DataFrame (dado que es un conjunto único de datos).\n",
    "    - *Ejercicio extra:* Descomponer CSV en varias tablas, y que el pipeline se encargue de cargar estos DataFrames y mergearlos en algún step del pipeline. \n",
    "\n",
    "- **Definición del objetivo del pipeline:** Se debe documentar de forma abstracta lo que se pretende obtener a partir del pipeline a desarrollar, en términos de una tarea analítica a desarrollar sobre los datos de entrada que agregue valor al negocio o dominio.\n",
    "\n",
    "- **Select de columnas a utilizar:** Acotar pipeline a un conjunto conocido de columnas a ser tratadas para optimizar el desempeño computacional del mismo. \n",
    "\n",
    "- **Limpieza de datos:** Para remover observaciones no deseadas (e.g. outliers, valores faltantes o nulos, etc).\n",
    "\n",
    "- **Transformación de datos:** Convertir columnas de entrada en otro formato o representación conveniente (e.g. normalizado, escalado, categorías numéricas, etc).\n",
    "\n",
    "- **Chequeo final y guardar en disco:** Se chequea el resultado final del pipeline respecto a lo definido inicialmente."
   ]
  }
 ],
 "metadata": {
  "@webio": {
   "lastCommId": "a64839b2f6a1456582823eaa2e227ba4",
   "lastKernelId": "21a0c607-1c10-401d-a60b-f96d2695a267"
  },
  "kernelspec": {
   "display_name": "Python 3",
   "language": "python",
   "name": "python3"
  },
  "language_info": {
   "codemirror_mode": {
    "name": "ipython",
    "version": 3
   },
   "file_extension": ".py",
   "mimetype": "text/x-python",
   "name": "python",
   "nbconvert_exporter": "python",
   "pygments_lexer": "ipython3",
   "version": "3.6.7"
  }
 },
 "nbformat": 4,
 "nbformat_minor": 2
}
