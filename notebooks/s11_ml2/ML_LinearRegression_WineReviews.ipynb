{
 "cells": [
  {
   "cell_type": "markdown",
   "metadata": {},
   "source": [
    "# <img style=\"float: left; padding-right: 10px; width: 150px\" src=\"https://sc.acamica.com/icons/1j7w9h/social-300x300.png\">  Acámica DS-COR3 - Ejercicio de Machine Learning\n",
    "\n",
    "### Abril 2019\n",
    "\n",
    "<hr style=\"height:2pt\">"
   ]
  },
  {
   "cell_type": "markdown",
   "metadata": {},
   "source": [
    "## Descripción\n",
    "\n",
    "El objetivo de este notebook es ejercitar el ajuste de un modelo de Machine Learning sobre un conjunto de datos referido a revisiones de vinos. En particular, el ejercicio se va a orientar a realizar una regresión lineal para predecir el score de un vino a partir de la revisión que tuvo por parte de un experto. Se pretende en este ejercicio entender un end-to-end del modelado para un análisis predictivo, desde la carga de datos hasta el ajuste del modelo y validación de su desempeño.\n",
    "\n",
    "**Link a dataset:** https://www.kaggle.com/zynicide/wine-reviews\n",
    "\n",
    "\n",
    "**Ejemplos asociados:** Dado que es un dataset popular, se puede encontrar una gran variedad de kernels disponibles para sacar ideas y corroborar otras: https://www.kaggle.com/zynicide/wine-reviews/kernels\n",
    "\n",
    "Como guía, se pretende que el pipeline a desarrollar cubra los siguientes aspectos (no necesariamente en este estricto orden):\n",
    "\n",
    "- **Definir enfoque analítico:** Enunciar de forma clara la tarea analítica que se va a desarrollar, desde la descripción de los datos de entrada, hasta la salida a obtener a partir de un modelo ajustado con un algoritmo que se eligió apropiadamente para esta tarea.\n",
    "\n",
    "- **Carga de datos:** Lectura de CSV en un DataFrame (dado que es un conjunto único de datos).\n",
    "\n",
    "- **Pre-procesamiento:** Se puede partir de las features propuestas en el data pipeline construido en [la semana 9](../s9_feature/Feature_Engineering_WineReviews.ipynb), aunque se deja la libertad de utilizar / extraer las features que se quieran para esta primer instancia.\n",
    "\n",
    "- **Split:** Partir DF en train-test usando la regla 70/30.\n",
    "    \n",
    "- **Configurar modelo a ajustar:** Utilizar el algoritmo [LinearRegression](https://scikit-learn.org/stable/modules/generated/sklearn.linear_model.LinearRegression.html#sklearn.linear_model.LinearRegression) con la implementación de scikit-learn.\n",
    "    - Probar la conveniencia de hacer ajustes de hiperparámetros (e.g. que se ajuste una ordenada al origen, normalizar features) o bien dejar todo \"por defecto\" desde scikit-learn.\n",
    "\n",
    "- **Ajustar modelo:** Utilizar conjunto de train para ajustar el modelo definido.\n",
    "\n",
    "- **Validar modelo:** Utilizar conjunto de test para validar el desempeño del modelo ajustado usando métricas adecuadas para problemas de regresión.\n",
    "    - En este caso se sugiere utilizar MSE y $r^2$ mediante la [API de scikit-learn](https://scikit-learn.org/stable/modules/model_evaluation.html#regression-metrics).\n",
    "\n",
    "- **Re-ajustar modelo:** En caso de que el desempeño actual no sea apropiado, volver a ajustar el modelo cambiando la configuración utilizada.\n",
    "    - En caso de que estos cambios no sean suficientes, evaluar la posibilidad de cambiar alguna etapa del pre-procesamiento de datos (garbage in, garbage out).\n",
    "\n",
    "- **Chequeo final y guardar en disco:** Se chequea el resultado final del modelo respecto a los criterios de aceptación manejados, y se guarda en disco tanto el modelo como la salida obtenida sobre el conjunto de test.\n",
    "    - *Desafío:* Ver la forma de guardar el modelo en disco, tanto con algún método de scikit-learn como con alguna librería de Python.\n",
    "    \n",
    " **OPCIONAL**: Crear un dataset de 10 vinos \"inventados\" (datos sintéticos, o bien sacados de Internet) para hacer pruebas del modelo obtenido.\n",
    "     - Obtener un DF de 10 filas cuyos atributos (los necesarios para las features del modelo al menos) sean inventados\n",
    "     - Entender el puntaje que arroja el modelo para validar si la salida tiene sentido a partir de la entrada."
   ]
  }
 ],
 "metadata": {
  "@webio": {
   "lastCommId": "a64839b2f6a1456582823eaa2e227ba4",
   "lastKernelId": "21a0c607-1c10-401d-a60b-f96d2695a267"
  },
  "kernelspec": {
   "display_name": "Python 3",
   "language": "python",
   "name": "python3"
  },
  "language_info": {
   "codemirror_mode": {
    "name": "ipython",
    "version": 3
   },
   "file_extension": ".py",
   "mimetype": "text/x-python",
   "name": "python",
   "nbconvert_exporter": "python",
   "pygments_lexer": "ipython3",
   "version": "3.6.7"
  }
 },
 "nbformat": 4,
 "nbformat_minor": 2
}
