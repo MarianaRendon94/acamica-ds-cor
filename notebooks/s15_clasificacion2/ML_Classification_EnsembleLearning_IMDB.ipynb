{
 "cells": [
  {
   "cell_type": "markdown",
   "metadata": {},
   "source": [
    "# <img style=\"float: left; padding-right: 10px; width: 150px\" src=\"https://sc.acamica.com/icons/1j7w9h/social-300x300.png\">  Acámica DS-COR3 - Ejercicio de Machine Learning\n",
    "\n",
    "### Mayo 2019\n",
    "\n",
    "<hr style=\"height:2pt\">"
   ]
  },
  {
   "cell_type": "markdown",
   "metadata": {},
   "source": [
    "## Descripción\n",
    "\n",
    "El objetivo de este notebook es ejercitar el ajuste de modelos basados en Ensemble Learning sobre un conjunto de datos referido a revisiones de películas de IMDB. Para simplificar el ejercicio, se parte de un esquema de features ya realizado por Keras, por lo cual los datos ya están en forma numérica listos para ser utilizados en el modelado. Se pretende obtener un modelo de Ensemble Learning combinando los siguientes algoritmos:\n",
    "\n",
    "- sklearn.ensemble.RandomForestClassifier\n",
    "- sklearn.ensemble.GradientBoostingClassifier\n",
    "- sklearn.ensemble.VotingClassifier con los siguientes algoritmos:\n",
    "    - sklearn.linear_model.LogisticRegression\n",
    "    - sklearn.tree.DecisionTreeClassifier\n",
    "    - sklearn.svm.SVC\n",
    "    \n",
    "    > NOTA: se puede usar más de una vez un algoritmo con distintos hiperparámetros (e.g. 1 decision tree, 1 logistic regression, 2 SVC). \n",
    "\n",
    "\n",
    "A partir de ello, se deben realizar las siguientes tareas:\n",
    "\n",
    "- Ajustar un modelo de ensemble learning con datos de train, combinando distintos algoritmos propuestos\n",
    "- Aplicar métricas de clasificación para validar el modelo de ensemble learning obtenido\n",
    "- Ajustar diversos modelos / configuraciones y comparar el desempeño entre ellos\n",
    "\n",
    "**Recursos**:  \n",
    " \n",
    "- https://scikit-learn.org/stable/modules/ensemble.html \n",
    "- https://towardsdatascience.com/ensemble-learning-using-scikit-learn-85c4531ff86a\n",
    "- https://www.analyticsvidhya.com/blog/2018/06/comprehensive-guide-for-ensemble-models/\n",
    "- https://www.datacamp.com/community/tutorials/ensemble-learning-python"
   ]
  },
  {
   "cell_type": "code",
   "execution_count": 1,
   "metadata": {},
   "outputs": [
    {
     "name": "stderr",
     "output_type": "stream",
     "text": [
      "Using TensorFlow backend.\n"
     ]
    }
   ],
   "source": [
    "# Dependencias\n",
    "from keras.datasets import imdb\n",
    "from keras.preprocessing import sequence\n",
    "from sklearn.ensemble import VotingClassifier"
   ]
  },
  {
   "cell_type": "code",
   "execution_count": 2,
   "metadata": {},
   "outputs": [],
   "source": [
    "# Preparación de datos\n",
    "\n",
    "num_words = 10\n",
    "\n",
    "(x_train, y_train), (x_test, y_test) = imdb.load_data(path=\"imdb.npz\", \n",
    "                                                           num_words=num_words, \n",
    "                                                           skip_top=0, \n",
    "                                                           maxlen=None, \n",
    "                                                           seed=123, \n",
    "                                                           start_char=1, \n",
    "                                                           oov_char=2, \n",
    "                                                           index_from=3) \n",
    "\n",
    "# preprocess data\n",
    "max_len = 100\n",
    "x_train = sequence.pad_sequences(x_train, maxlen=max_len) \n",
    "x_test = sequence.pad_sequences(x_test, maxlen=max_len) "
   ]
  },
  {
   "cell_type": "code",
   "execution_count": 3,
   "metadata": {},
   "outputs": [],
   "source": [
    "# Aquí, empezar el modelado!"
   ]
  }
 ],
 "metadata": {
  "@webio": {
   "lastCommId": null,
   "lastKernelId": null
  },
  "kernelspec": {
   "display_name": "Python 3",
   "language": "python",
   "name": "python3"
  },
  "language_info": {
   "codemirror_mode": {
    "name": "ipython",
    "version": 3
   },
   "file_extension": ".py",
   "mimetype": "text/x-python",
   "name": "python",
   "nbconvert_exporter": "python",
   "pygments_lexer": "ipython3",
   "version": "3.6.7"
  }
 },
 "nbformat": 4,
 "nbformat_minor": 2
}
