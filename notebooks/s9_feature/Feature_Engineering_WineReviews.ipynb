{
 "cells": [
  {
   "cell_type": "markdown",
   "metadata": {},
   "source": [
    "# <img style=\"float: left; padding-right: 10px; width: 150px\" src=\"https://sc.acamica.com/icons/1j7w9h/social-300x300.png\">  Acámica DS-COR3 - Ejercicio de Feature Engineering\n",
    "\n",
    "### Abril 2019\n",
    "\n",
    "<hr style=\"height:2pt\">"
   ]
  },
  {
   "cell_type": "markdown",
   "metadata": {},
   "source": [
    "## Descripción\n",
    "\n",
    "El objetivo de este notebook es ejercitar la construcción de Data Pipelines orientados a la extracción de características sobre un conjunto de datos referido a revisiones de vinos. En ejercicios anteriores se ha trabajado con herramientas para armar estos pipelines, y para este ejercicio se debe poner esos conocimientos en práctica para caracterizar los vinos comprendidos en este dataset. \n",
    "\n",
    "**Link a dataset:** https://www.kaggle.com/zynicide/wine-reviews\n",
    "\n",
    "**Ejemplos asociados:** Dado que es un dataset popular, se puede encontrar una gran variedad de kernels disponibles para sacar ideas y corroborar otras: https://www.kaggle.com/zynicide/wine-reviews/kernels\n",
    "\n",
    "\n",
    "Como resultado del pipeline, se debe obtener un dataset compuesto por las siguientes columnas que van a caracterizar los vinos analizados:\n",
    "\n",
    "- **continent:** Indicar con categorías numéricas el continente de dónde proviene el vino (usando la convención mencionada [aquí](https://en.wikipedia.org/wiki/Continent)).\n",
    "- **is_sweet:** Columna booleana indicando si la descripción del vino contiene o no la palabra *sweet* (quizás con la ayuda de una [función útil en Pandas](https://pandas.pydata.org/pandas-docs/stable/reference/api/pandas.Series.str.contains.html))\n",
    "- **price_4levels:** Columna categórica indicando el precio en 4 tipos: \"LOW\" (precio menor o igual a \\\\$15), \"INTERMEDIATE\" (precio entre \\\\$15 y \\\\$40), \"HIGH\" (precio entre \\\\$40 y \\\\$70) y \"VERY HIGH\" (precio mayor a \\\\$70).\n",
    "- **was_master_taster**: Queremos una columna booleana para saber si la revisión del vino analizado fue provista por uno de los \"4 maestros del vino\": \"Roger Voss\", \"Michael Schachner\", \"Paul Gregutt\", \"Virginie Boone\".\n",
    "- **century_title:** Asumiendo que el título del vino frecuentemente contiene el año del mismo, se debe proveer una columna booleana indicando si fue producido el siglo pasado (1900-1999) o el actual (2000-2019). Quizás puede servir la [siguiente función de Pandas](https://pandas.pydata.org/pandas-docs/stable/reference/api/pandas.Series.str.extract.html) mediante esta regex: `r'.*(\\d{4}).*'`.\n",
    "- **variety_ohe:** Indicar con One Hot Encoding (OHE) mediante 3 columnas si el vino pertenece a alguna de las siguientes 3 categorías:\n",
    "    - *Red*: Si entra en el top 8 de principales vinos rojos descriptos [aquí](http://frenchscout.com/types-of-red-wines).\n",
    "    - *White*: Si entra en el top 7 de principales vinos blancos descriptos [aquí](http://frenchscout.com/types-of-white-wines).\n",
    "    - *Other*: El resto de las categorías no cubiertas\n",
    "    \n",
    "Finalmente, la variable \"objetivo\" del análisis va a estar basada en el puntaje asignado al vino:\n",
    "- **points_3levels:** Columna categórica indicando en 3 clases el puntaje asignado (a criterio del desarrollador, aunque se debe justificar la decisión).\n",
    "\n",
    "Últimos comentarios:\n",
    "\n",
    "- Filtrar outliers de precios ALTOS siguiendo el método IQR.\n",
    "- Imputar datos faltantes con la estrategia que parezca más conveniente (e.g. mediana para variables discretas, moda para categóricas, etc).\n",
    "- **Desafío:** Implementar pipeline con Scikit-learn.\n"
   ]
  }
 ],
 "metadata": {
  "@webio": {
   "lastCommId": "ac8ba0000ca54a088ad098e701d75dde",
   "lastKernelId": "ece649a4-2ee3-43e4-b98e-4479bcb5f0f8"
  },
  "kernelspec": {
   "display_name": "Python 3",
   "language": "python",
   "name": "python3"
  },
  "language_info": {
   "codemirror_mode": {
    "name": "ipython",
    "version": 3
   },
   "file_extension": ".py",
   "mimetype": "text/x-python",
   "name": "python",
   "nbconvert_exporter": "python",
   "pygments_lexer": "ipython3",
   "version": "3.6.7"
  }
 },
 "nbformat": 4,
 "nbformat_minor": 2
}
